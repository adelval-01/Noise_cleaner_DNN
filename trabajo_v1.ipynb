{
 "cells": [
  {
   "cell_type": "markdown",
   "metadata": {},
   "source": [
    "Functions for adding noise and segmenting"
   ]
  },
  {
   "cell_type": "code",
   "execution_count": 1,
   "metadata": {},
   "outputs": [],
   "source": [
    "import librosa\n",
    "import numpy as np\n",
    "import os\n",
    "import math\n",
    "\n",
    "SAMPLE_RATE = 16000\n",
    "\n",
    "def add_noise(audio) : \n",
    "    P_signal = audio.std()**2    # Power of the signal\n",
    "    SNR_dB = np.random.uniform(-5,15)\n",
    "    P_noise = P_signal * 10**(-SNR_dB / 10)\n",
    "    noise = np.sqrt(P_noise) * np.random.randn(len(audio))\n",
    "\n",
    "    n_audio = audio + noise\n",
    "\n",
    "    n_audio = np.clip(n_audio, -2**15, 2**15 - 1)  # for 16-bit PCM audio\n",
    "\n",
    "    \n",
    "    return n_audio  \n",
    "\n",
    "\n",
    "def split_or_pad_audio(file_path, segment_duration=5000):\n",
    "    # Load the audio file\n",
    "    audio, sr = librosa.load(file_path, sr=SAMPLE_RATE)\n",
    "    \n",
    "    # Calculate the number of 5-second segments\n",
    "    samples_duration = int((segment_duration/1000)*SAMPLE_RATE)\n",
    "    num_segments = math.ceil(len(audio)/samples_duration)\n",
    "    \n",
    "    segments = []\n",
    "    for i in range(num_segments):\n",
    "        start = i * samples_duration\n",
    "        end = start + samples_duration\n",
    "        segment = audio[start:end]\n",
    "        \n",
    "        if len(segment) < samples_duration:\n",
    "            padding = np.zeros(samples_duration - len(segment))\n",
    "            segment = np.concatenate([segment, padding])\n",
    "            \n",
    "        segments.append((add_noise(segment),segment))\n",
    "\n",
    "    return segments"
   ]
  },
  {
   "cell_type": "code",
   "execution_count": 2,
   "metadata": {},
   "outputs": [],
   "source": [
    "# Spliting Audios 5 seconds\n",
    "\n",
    "import math\n",
    "import os\n",
    "\n",
    "# Gather audio file paths and transcriptions\n",
    "audio_tuple = []\n",
    "count = 0\n",
    "max_files = 10\n",
    "\n",
    "for root, dirs1, files in os.walk(\"LibriSpeech/dev-clean\"):\n",
    "    for file in files:\n",
    "        if file.endswith(\".flac\"):\n",
    "            audio_path = os.path.join(root, file)\n",
    "            segment_tuple = split_or_pad_audio(audio_path,5000)\n",
    "            audio_tuple.extend(segment_tuple)\n",
    "            count += 1\n",
    "            if count >= max_files:\n",
    "                break\n",
    "    if count >= max_files:\n",
    "        break\n"
   ]
  },
  {
   "cell_type": "code",
   "execution_count": 3,
   "metadata": {},
   "outputs": [],
   "source": [
    "import librosa\n",
    "import numpy as np\n",
    "import os\n",
    "import pandas as pd\n",
    "import torch\n",
    "from torch.utils.data import Dataset, DataLoader\n",
    "\n",
    "class AudioDataset(Dataset):\n",
    "    def __init__(self, audio_data):\n",
    "        \"\"\"\n",
    "        Args:\n",
    "            metadata_file (str): Path to the file with audio file paths and labels.\n",
    "            transform (callable, optional): Optional transform to apply on a sample.\n",
    "        \"\"\"\n",
    "        self.audio_data = audio_data  \n",
    "\n",
    "    def __len__(self):\n",
    "        return len(self.audio_data)\n",
    "\n",
    "    def __getitem__(self, idx):\n",
    "        \n",
    "        noisy_audio, clean_audio = self.audio_data[idx]\n",
    "        # Load audio and calculate spectrogram from clean and noisy audio\n",
    "        S_noisy = librosa.stft(noisy_audio, n_fft=512, hop_length=160, win_length=400)\n",
    "        S_dB_noisy = librosa.amplitude_to_db(np.abs(S_noisy), ref=np.max)\n",
    "\n",
    "        S_clean = librosa.stft(clean_audio, n_fft=512, hop_length=160, win_length=400)\n",
    "        S_dB_clean = librosa.amplitude_to_db(np.abs(S_clean), ref=np.max)\n",
    "        \n",
    "        # Convert to tensor\n",
    "        S_dB_noisy = torch.tensor(S_dB_noisy, dtype=torch.float32)\n",
    "        S_dB_clean = torch.tensor(S_dB_clean, dtype=torch.float32)\n",
    "        \n",
    "        return S_dB_noisy, S_dB_clean"
   ]
  },
  {
   "cell_type": "code",
   "execution_count": 4,
   "metadata": {},
   "outputs": [
    {
     "name": "stdout",
     "output_type": "stream",
     "text": [
      "Noisy batch shape: torch.Size([5, 257, 501])\n",
      "Clean batch shape: torch.Size([5, 257, 501])\n",
      "Noisy batch shape: torch.Size([5, 257, 501])\n",
      "Clean batch shape: torch.Size([5, 257, 501])\n",
      "Noisy batch shape: torch.Size([5, 257, 501])\n",
      "Clean batch shape: torch.Size([5, 257, 501])\n",
      "Noisy batch shape: torch.Size([5, 257, 501])\n",
      "Clean batch shape: torch.Size([5, 257, 501])\n"
     ]
    }
   ],
   "source": [
    "from torch.utils.data import DataLoader\n",
    "\n",
    "audio_dataset = AudioDataset(audio_tuple)\n",
    "audio_dataloader = DataLoader(audio_dataset, batch_size=5, shuffle=True)\n",
    "\n",
    "# Iterate through the DataLoader\n",
    "for noisy_batch, clean_batch in audio_dataloader:\n",
    "    print(f\"Noisy batch shape: {noisy_batch.shape}\")\n",
    "    print(f\"Clean batch shape: {clean_batch.shape}\")"
   ]
  },
  {
   "cell_type": "markdown",
   "metadata": {},
   "source": [
    "Training\n"
   ]
  },
  {
   "cell_type": "code",
   "execution_count": 10,
   "metadata": {},
   "outputs": [
    {
     "name": "stdout",
     "output_type": "stream",
     "text": [
      "torch.Size([5, 501, 257])\n"
     ]
    },
    {
     "name": "stdout",
     "output_type": "stream",
     "text": [
      "torch.Size([5, 501, 514]) torch.Size([1, 5, 514]) torch.Size([1, 5, 514])\n",
      "torch.Size([5, 501, 257])\n"
     ]
    }
   ],
   "source": [
    "print(noisy_batch.transpose(1,2).shape)\n",
    "LSTM = torch.nn.LSTM(257, 514, batch_first=True, bidirectional=False, num_layers=1)\n",
    "linear1 = torch.nn.Linear(514, 257)\n",
    "\n",
    "x, state = LSTM(noisy_batch.transpose(1,2))\n",
    "print( x.shape, state[0].shape, state[1].shape )\n",
    "out = linear1(x)\n",
    "print( out.shape )"
   ]
  },
  {
   "cell_type": "code",
   "execution_count": 7,
   "metadata": {},
   "outputs": [],
   "source": [
    "class Net1(torch.nn.Module):\n",
    "  def __init__(self, input_size, hidden_size, output_size, bidir=False, n_lstm_layers=1):\n",
    "    super().__init__()\n",
    "    #self.linear1 = torch.nn.Linear(128, 2)\n",
    "    self.LSTM = torch.nn.LSTM(input_size, hidden_size, batch_first=True, bidirectional=bidir, num_layers=n_lstm_layers)\n",
    "    #self.drop = torch.nn.Dropout(0.1)\n",
    "    self.linear1 = torch.nn.Linear(hidden_size, output_size)\n",
    "  def forward(self, x):\n",
    "    x, _ = self.LSTM(x)\n",
    "    #x = self.drop(x)\n",
    "    x = self.linear1(x)\n",
    "    return x\n",
    "\n",
    "  def predict(self, x):\n",
    "    with torch.no_grad():\n",
    "      x = self.forward(x)\n",
    "      return torch.argmax(x, dim=1)\n",
    "\n",
    "  def predict_proba(self, x):\n",
    "    with torch.no_grad():\n",
    "      x = self.forward(x)\n",
    "      return torch.softmax(x, dim=1)"
   ]
  },
  {
   "cell_type": "code",
   "execution_count": null,
   "metadata": {},
   "outputs": [],
   "source": [
    "\n",
    "\n",
    "import matplotlib.pyplot as plt\n",
    "import numpy as np\n",
    "\n",
    "device = 'cuda'\n",
    "#device = 'cpu'\n",
    "model = Net1().to(device)\n",
    "\n",
    "J = torch.nn.CrossEntropyLoss()\n",
    "#optimizer = torch.optim.SGD( model.parameters(), lr=0.1, momentum=0.6, weight_decay=1e-5)\n",
    "optimizer = torch.optim.Adam( model.parameters(), lr=0.001)\n",
    "\n",
    "batch_size = 32\n",
    "nb_its = 10\n",
    "J_it = np.zeros(nb_its)\n",
    "\n",
    "for i in range(nb_its):\n",
    "  k = 0\n",
    "  for x,y in trainloader:\n",
    "\n",
    "    x = x.to(device)\n",
    "    y = y.to(device)\n",
    "\n",
    "    model.zero_grad()\n",
    "    o = model(x)\n",
    "    loss = J(o, y)\n",
    "    loss.backward()\n",
    "    optimizer.step()\n",
    "\n",
    "    J_it[i] += loss.item()\n",
    "    k += 1\n",
    "\n",
    "    #input('pause')\n",
    "  J_it[i] /= k\n",
    "  print(\"it %d: J() = %.3f\" % (i, J_it[i]))\n",
    "\n",
    "plt.clf()\n",
    "plt.plot(J_it,'b', markersize=8, linestyle='-', marker='.')\n",
    "plt.ylabel('J')\n",
    "plt.xlabel('it')\n",
    "plt.grid(True)"
   ]
  },
  {
   "cell_type": "code",
   "execution_count": 14,
   "metadata": {},
   "outputs": [],
   "source": [
    "def train_model(model, dataloader, num_epochs=10, learning_rate=0.001):\n",
    "    \"\"\"\n",
    "    Train the LSTM model.\n",
    "    \n",
    "    Args:\n",
    "        model (nn.Module): The LSTM model to train.\n",
    "        dataloader (DataLoader): DataLoader for training data.\n",
    "        num_epochs (int): Number of training epochs.\n",
    "        learning_rate (float): Learning rate for the optimizer.\n",
    "    \"\"\"\n",
    "    # Define the loss function (Mean Squared Error)\n",
    "    J = torch.nn.MSELoss()\n",
    "    \n",
    "    # Define the optimizer (Adam optimizer)\n",
    "    optimizer = torch.optim.Adam(model.parameters(), lr=learning_rate)\n",
    "    \n",
    "    J_it = np.zeros(num_epochs)\n",
    "\n",
    "    # Iterate over epochs\n",
    "    for epoch in range(num_epochs):\n",
    "        #model.train()  # Set the model to training model\n",
    "        k = 0\n",
    "        # Iterate through the DataLoader\n",
    "        for noisy_audio, clean_audio in dataloader:\n",
    "            # Ensure the tensors are the right shape (batch_size, seq_len, input_size)\n",
    "            # For spectrograms, seq_len is the number of time steps (frames), and input_size is the number of frequency bins.\n",
    "            noisy_audio = noisy_audio.transpose(1, 2)  # LSTM expects (batch, seq_len, input_size)\n",
    "            clean_audio = clean_audio.transpose(1, 2)\n",
    "            \n",
    "            # Zero the gradients\n",
    "            optimizer.zero_grad()\n",
    "            \n",
    "            # Forward pass\n",
    "            output = model(noisy_audio)\n",
    "            \n",
    "            # Compute the loss (MSE loss between predicted and clean spectrogram)\n",
    "            loss = J(output, clean_audio)\n",
    "            \n",
    "            # Backward pass and optimization\n",
    "            loss.backward()\n",
    "            optimizer.step()\n",
    "            \n",
    "            J_it[epoch] += loss.item()\n",
    "            k += 1\n",
    "        \n",
    "        # Print the average loss for this epoch\n",
    "        J_it[epoch] /= k\n",
    "        print(f\"Epoch {epoch+1}/{num_epochs}, Loss: {J_it[epoch]:.4f}\")\n",
    "\n",
    "    print(\"Training complete.\")\n",
    "    print(k)\n",
    "    plt.clf()\n",
    "    plt.plot(J_it,'b', markersize=8, linestyle='-', marker='.')\n",
    "    plt.ylabel('J')\n",
    "    plt.xlabel('it')\n",
    "    plt.grid(True)\n"
   ]
  },
  {
   "cell_type": "code",
   "execution_count": 15,
   "metadata": {},
   "outputs": [
    {
     "name": "stdout",
     "output_type": "stream",
     "text": [
      "Epoch 1/2, Loss: 4421.0107\n",
      "Epoch 2/2, Loss: 4288.1434\n",
      "Training complete.\n",
      "4\n"
     ]
    },
    {
     "data": {
      "image/png": "[encoded data removed]",
      "text/plain": [
       "<Figure size 640x480 with 1 Axes>"
      ]
     },
     "metadata": {},
     "output_type": "display_data"
    }
   ],
   "source": [
    "# Define model parameters\n",
    "input_size = 257  # For example, number of frequency bins in STFT (assuming 512 FFT size, 257 bins for half)\n",
    "hidden_size = 514  # Hidden layer size\n",
    "output_size = 257  # Output has the same size as input spectrogram (257 bins)\n",
    "num_epochs = 2\n",
    "learning_rate = 0.001\n",
    "\n",
    "# Instantiate the model\n",
    "model = Net1(input_size, hidden_size, output_size)\n",
    "\n",
    "# Train the model\n",
    "train_model(model, audio_dataloader, num_epochs=num_epochs, learning_rate=learning_rate)\n"
   ]
  },
  {
   "cell_type": "code",
   "execution_count": 13,
   "metadata": {},
   "outputs": [
    {
     "name": "stdout",
     "output_type": "stream",
     "text": [
      "4\n"
     ]
    }
   ],
   "source": [
    "print(len(audio_dataloader))"
   ]
  },
  {
   "cell_type": "code",
   "execution_count": 16,
   "metadata": {},
   "outputs": [
    {
     "name": "stdout",
     "output_type": "stream",
     "text": [
      "Using device: cpu\n"
     ]
    }
   ],
   "source": [
    "device = torch.device(\"cuda\" if torch.cuda.is_available() else \"cpu\")\n",
    "print(f\"Using device: {device}\")"
   ]
  },
  {
   "cell_type": "code",
   "execution_count": 10,
   "metadata": {},
   "outputs": [
    {
     "name": "stdout",
     "output_type": "stream",
     "text": [
      "torch.Size([257, 501])\n",
      "torch.Size([501, 257])\n"
     ]
    },
    {
     "data": {
      "image/png": "[encoded data removed]",
      "text/plain": [
       "<Figure size 1000x600 with 2 Axes>"
      ]
     },
     "metadata": {},
     "output_type": "display_data"
    }
   ],
   "source": [
    "import matplotlib.pyplot as plt\n",
    "print(noisy_batch[1,:,:].shape)\n",
    "out_model = model(noisy_batch[1,:,:].transpose(0,1))\n",
    "print(out_model.shape)\n",
    "plt.figure(figsize=(10, 6))\n",
    "librosa.display.specshow(out_model.detach().numpy(), sr=SAMPLE_RATE, x_axis='time', y_axis='hz', cmap='viridis')\n",
    "plt.colorbar(format=\"%+2.0f dB\")\n",
    "plt.title(\"Spectrogram\")\n",
    "plt.xlabel(\"Time\")\n",
    "plt.ylabel(\"Frequency\")\n",
    "plt.show()\n",
    "\n"
   ]
  }
 ],
 "metadata": {
  "kernelspec": {
   "display_name": "trabajo_env",
   "language": "python",
   "name": "python3"
  },
  "language_info": {
   "codemirror_mode": {
    "name": "ipython",
    "version": 3
   },
   "file_extension": ".py",
   "mimetype": "text/x-python",
   "name": "python",
   "nbconvert_exporter": "python",
   "pygments_lexer": "ipython3",
   "version": "3.12.2"
  }
 },
 "nbformat": 4,
 "nbformat_minor": 2
}
