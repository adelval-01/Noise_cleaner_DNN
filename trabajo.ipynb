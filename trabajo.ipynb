{
 "cells": [
  {
   "cell_type": "code",
   "execution_count": null,
   "metadata": {},
   "outputs": [],
   "source": [
    "# Downloading LibriSpeech Dataset\n",
    "!wget https://www.openslr.org/resources/12/train-clean-100.tar.gz\n",
    "!wget https://www.openslr.org/resources/12/train-other-500.tar.gz"
   ]
  },
  {
   "cell_type": "code",
   "execution_count": null,
   "metadata": {},
   "outputs": [],
   "source": [
    "# Download LibriSpeech dev dataset\n",
    "!wget https://www.openslr.org/resources/12/dev-clean.tar.gz\n",
    "#!wget https://www.openslr.org/resources/12/dev-other.tar.gz"
   ]
  },
  {
   "cell_type": "code",
   "execution_count": null,
   "metadata": {},
   "outputs": [],
   "source": [
    "import tarfile\n",
    "\n",
    "# Extract 'train-clean-100.tar.gz'\n",
    "with tarfile.open('dev-clean.tar.gz', 'r:gz') as tar:\n",
    "    tar.extractall('LibriSpeech/dev-clean')\n",
    "\n",
    "\"\"\"\n",
    "# Extract 'train-other-500.tar.gz'\n",
    "with tarfile.open('train-other-500.tar.gz', 'r:gz') as tar:\n",
    "    tar.extractall('LibriSpeech/dev-other')\n",
    "\"\"\""
   ]
  },
  {
   "cell_type": "code",
   "execution_count": null,
   "metadata": {},
   "outputs": [
    {
     "name": "stdout",
     "output_type": "stream",
     "text": [
      "LibriSpeech/dev-clean/LibriSpeech/dev-clean/652/130726/652-130726-0024.flac\n"
     ]
    }
   ],
   "source": [
    "import os\n",
    "\n",
    "# Gather audio file paths and transcriptions\n",
    "dataset = []\n",
    "\n",
    "for root, dirs, files in os.walk(\"LibriSpeech\"):\n",
    "    for file in files:\n",
    "        if file.endswith(\".flac\"):\n",
    "            audio_path = os.path.join(root, file)\n",
    "            transcript_path = os.path.join(root, file.replace(\".flac\", \".txt\"))\n",
    "            dataset.append((audio_path, transcript_path))\n",
    "print(dataset[0][0])"
   ]
  },
  {
   "cell_type": "code",
   "execution_count": 4,
   "metadata": {},
   "outputs": [],
   "source": [
    "from pydub import AudioSegment\n",
    "import os\n",
    "import math"
   ]
  },
  {
   "cell_type": "code",
   "execution_count": 53,
   "metadata": {},
   "outputs": [],
   "source": [
    "from pydub import AudioSegment\n",
    "import numpy as np\n",
    "import os\n",
    "\n",
    "def add_noise_to_audio(audio, noise_level=0.02):\n",
    "\n",
    "    # Convert audio to numpy array (pydub uses raw audio)\n",
    "    samples = np.array(audio.get_array_of_samples())\n",
    "    \n",
    "    # Generate random noise\n",
    "    noise = np.random.normal(0, noise_level * np.max(samples), samples.shape).astype(samples.dtype)\n",
    "    \n",
    "    # Add noise to the audio signal\n",
    "    noisy_samples = samples + noise\n",
    "    noisy_samples = np.clip(noisy_samples, -32768, 32767)  # Ensure values are within int16 range\n",
    "    \n",
    "    # Convert numpy array back to AudioSegment\n",
    "    noisy_audio = AudioSegment(\n",
    "        noisy_samples.tobytes(),\n",
    "        frame_rate=audio.frame_rate,\n",
    "        sample_width=audio.sample_width,\n",
    "        channels=audio.channels\n",
    "    )\n",
    "    \n",
    "    return noisy_audio\n",
    "\n",
    "def split_or_pad_audio(file_path, output_dir, segment_duration=5000):\n",
    "    # Load the audio file\n",
    "    audio = AudioSegment.from_file(file_path, format=\"flac\")\n",
    "    audio_length = len(audio)\n",
    "    \n",
    "    # Calculate the number of 5-second segments\n",
    "    num_segments = math.ceil(audio_length / segment_duration)\n",
    "    \n",
    "    segments = []\n",
    "    for i in range(num_segments):\n",
    "        start = i * segment_duration\n",
    "        end = start + segment_duration\n",
    "        segment = audio[start:end]\n",
    "        \n",
    "        # If segment is less than 5 seconds, pad with silence\n",
    "        if len(segment) < segment_duration:\n",
    "            segment = segment + AudioSegment.silent(duration=(segment_duration - len(segment)))\n",
    "        \n",
    "        # Define the output file path\n",
    "        segment_filename = f\"{os.path.splitext(os.path.basename(file_path))[0]}_seg_{i}.flac\"\n",
    "        segment_path = os.path.join(output_dir, segment_filename)\n",
    "    \n",
    "\n",
    "        noisy_seg = add_noise_to_audio(segment)\n",
    "        noisy_path = segment_path.replace(\"clean\",\"noisy\")\n",
    "        noisy_dir = os.path.dirname(noisy_path)\n",
    "        os.makedirs(noisy_dir, exist_ok=True)\n",
    "        noisy_seg.export(noisy_path, \"flac\")\n",
    "        \n",
    "        # Export the segment\n",
    "        segment.export(segment_path, format=\"flac\")\n",
    "        segments.append(segment_path)\n",
    "\n",
    "    \n",
    "    return segments"
   ]
  },
  {
   "cell_type": "code",
   "execution_count": null,
   "metadata": {},
   "outputs": [],
   "source": [
    "nossy_aud = add_noise_to_audio(dataset[0][0], 0.05)\n",
    "audio = AudioSegment.from_file(dataset[0][0], format=\"flac\")\n",
    "print(len(audio))\n",
    "\n",
    "# Define the output file path\n",
    "output_dir = \"LibriSpeech_test\"  \n",
    "os.makedirs(output_dir, exist_ok=True)\n",
    "filename= f\"{os.path.basename(dataset[0][0])}\".replace(\".flac\",\".wav\")\n",
    "print(filename)\n",
    "path = os.path.join(output_dir, filename)\n",
    "\n",
    "filename_noisy = f\"{os.path.splitext(os.path.basename(dataset[0][0]))[0]}_noisy.wav\"\n",
    "path_noisy = os.path.join(output_dir, filename_noisy)\n",
    "print(path_noisy)\n",
    "\n",
    "# Export the segment\n",
    "audio.export(path, format=\"wav\")\n",
    "nossy_aud.export(path_noisy, format=\"wav\")"
   ]
  },
  {
   "cell_type": "code",
   "execution_count": 14,
   "metadata": {},
   "outputs": [
    {
     "name": "stdout",
     "output_type": "stream",
     "text": [
      "LibriSpeech/dev-clean/LibriSpeech/dev-clean/652/130726/652-130726-0024.flac\n",
      "LibriSpeech_test_chop/652-130726-0024_seg_0.wav\n"
     ]
    }
   ],
   "source": [
    "output_dir = \"LibriSpeech_test_chop\"\n",
    "os.makedirs(output_dir, exist_ok=True)\n",
    "print(dataset[0][0])\n",
    "segment_list = split_or_pad_audio(dataset[0][0],output_dir,5000)\n",
    "print(segment_list[0])"
   ]
  },
  {
   "cell_type": "code",
   "execution_count": 96,
   "metadata": {},
   "outputs": [
    {
     "name": "stdout",
     "output_type": "stream",
     "text": [
      "LibriSpeech/segments/clean/LibriSpeech/segments/clean/652/130726/652-130726-0024_seg_0.flac\n",
      "LibriSpeech/segments/noisy/LibriSpeech/segments/noisy/652/130726/652-130726-0024_seg_0.flac\n",
      "LibriSpeech/segments/clean/LibriSpeech/segments/clean/652/130726/652-130726-0024_seg_1.flac\n",
      "LibriSpeech/segments/noisy/LibriSpeech/segments/noisy/652/130726/652-130726-0024_seg_1.flac\n",
      "LibriSpeech/segments/clean/LibriSpeech/segments/clean/652/130726/652-130726-0024_seg_2.flac\n",
      "LibriSpeech/segments/noisy/LibriSpeech/segments/noisy/652/130726/652-130726-0024_seg_2.flac\n",
      "LibriSpeech/segments/clean/LibriSpeech/segments/clean/652/130726/652-130726-0028_seg_0.flac\n",
      "LibriSpeech/segments/noisy/LibriSpeech/segments/noisy/652/130726/652-130726-0028_seg_0.flac\n",
      "LibriSpeech/segments/clean/LibriSpeech/segments/clean/652/130726/652-130726-0026_seg_0.flac\n",
      "LibriSpeech/segments/noisy/LibriSpeech/segments/noisy/652/130726/652-130726-0026_seg_0.flac\n",
      "LibriSpeech/segments/clean/LibriSpeech/segments/clean/652/130726/652-130726-0026_seg_1.flac\n",
      "LibriSpeech/segments/noisy/LibriSpeech/segments/noisy/652/130726/652-130726-0026_seg_1.flac\n",
      "LibriSpeech/segments/clean/LibriSpeech/segments/clean/652/130726/652-130726-0031_seg_0.flac\n",
      "LibriSpeech/segments/noisy/LibriSpeech/segments/noisy/652/130726/652-130726-0031_seg_0.flac\n",
      "LibriSpeech/segments/clean/LibriSpeech/segments/clean/652/130726/652-130726-0031_seg_1.flac\n",
      "LibriSpeech/segments/noisy/LibriSpeech/segments/noisy/652/130726/652-130726-0031_seg_1.flac\n",
      "LibriSpeech/segments/clean/LibriSpeech/segments/clean/652/130726/652-130726-0014_seg_0.flac\n",
      "LibriSpeech/segments/noisy/LibriSpeech/segments/noisy/652/130726/652-130726-0014_seg_0.flac\n",
      "LibriSpeech/segments/clean/LibriSpeech/segments/clean/652/130726/652-130726-0014_seg_1.flac\n",
      "LibriSpeech/segments/noisy/LibriSpeech/segments/noisy/652/130726/652-130726-0014_seg_1.flac\n",
      "LibriSpeech/segments/clean/LibriSpeech/segments/clean/652/130726/652-130726-0020_seg_0.flac\n",
      "LibriSpeech/segments/noisy/LibriSpeech/segments/noisy/652/130726/652-130726-0020_seg_0.flac\n",
      "LibriSpeech/segments/clean/LibriSpeech/segments/clean/652/130726/652-130726-0020_seg_1.flac\n",
      "LibriSpeech/segments/noisy/LibriSpeech/segments/noisy/652/130726/652-130726-0020_seg_1.flac\n",
      "LibriSpeech/segments/clean/LibriSpeech/segments/clean/652/130726/652-130726-0009_seg_0.flac\n",
      "LibriSpeech/segments/noisy/LibriSpeech/segments/noisy/652/130726/652-130726-0009_seg_0.flac\n",
      "LibriSpeech/segments/clean/LibriSpeech/segments/clean/652/130726/652-130726-0003_seg_0.flac\n",
      "LibriSpeech/segments/noisy/LibriSpeech/segments/noisy/652/130726/652-130726-0003_seg_0.flac\n",
      "LibriSpeech/segments/clean/LibriSpeech/segments/clean/652/130726/652-130726-0003_seg_1.flac\n",
      "LibriSpeech/segments/noisy/LibriSpeech/segments/noisy/652/130726/652-130726-0003_seg_1.flac\n",
      "LibriSpeech/segments/clean/LibriSpeech/segments/clean/652/130726/652-130726-0008_seg_0.flac\n",
      "LibriSpeech/segments/noisy/LibriSpeech/segments/noisy/652/130726/652-130726-0008_seg_0.flac\n",
      "LibriSpeech/segments/clean/LibriSpeech/segments/clean/652/130726/652-130726-0008_seg_1.flac\n",
      "LibriSpeech/segments/noisy/LibriSpeech/segments/noisy/652/130726/652-130726-0008_seg_1.flac\n",
      "LibriSpeech/segments/clean/LibriSpeech/segments/clean/652/130726/652-130726-0022_seg_0.flac\n",
      "LibriSpeech/segments/noisy/LibriSpeech/segments/noisy/652/130726/652-130726-0022_seg_0.flac\n",
      "LibriSpeech/segments/clean/LibriSpeech/segments/clean/652/130726/652-130726-0022_seg_1.flac\n",
      "LibriSpeech/segments/noisy/LibriSpeech/segments/noisy/652/130726/652-130726-0022_seg_1.flac\n",
      "LibriSpeech/segments/clean/LibriSpeech/segments/clean/652/130726/652-130726-0022_seg_2.flac\n",
      "LibriSpeech/segments/noisy/LibriSpeech/segments/noisy/652/130726/652-130726-0022_seg_2.flac\n"
     ]
    }
   ],
   "source": [
    "# Spliting Audios 5 seconds\n",
    "\n",
    "\n",
    "import os\n",
    "\n",
    "# Gather audio file paths and transcriptions\n",
    "dataset = []\n",
    "count = 0\n",
    "max_files = 10\n",
    "\n",
    "for root, dirs1, files in os.walk(\"LibriSpeech/dev-clean\"):\n",
    "    for file in files:\n",
    "        if file.endswith(\".flac\"):\n",
    "            audio_path = os.path.join(root, file)\n",
    "            output_dir = os.path.dirname(audio_path.replace(\"dev-clean\", \"segments/clean\"))\n",
    "            os.makedirs(output_dir, exist_ok=True)\n",
    "            segment_list = split_or_pad_audio(audio_path,output_dir,5000)\n",
    "            for segment in segment_list:\n",
    "                clean_path = segment\n",
    "                noisy_path = clean_path.replace(\"clean\", \"noisy\")\n",
    "                print(clean_path)\n",
    "                print(noisy_path)\n",
    "                dataset.append((noisy_path, segment))\n",
    "            count += 1\n",
    "            if count >= max_files:\n",
    "                break\n",
    "    if count >= max_files:\n",
    "        break\n",
    "\n"
   ]
  },
  {
   "cell_type": "code",
   "execution_count": 92,
   "metadata": {},
   "outputs": [
    {
     "name": "stdout",
     "output_type": "stream",
     "text": [
      "['LibriSpeech/segments/clean/LibriSpeech/segments/clean/652/130726/652-130726-0028_seg_0.flac']\n"
     ]
    }
   ],
   "source": [
    "print(segment_list)"
   ]
  },
  {
   "cell_type": "code",
   "execution_count": 97,
   "metadata": {},
   "outputs": [
    {
     "name": "stdout",
     "output_type": "stream",
     "text": [
      "LibriSpeech/segments/noisy/LibriSpeech/segments/noisy/652/130726/652-130726-0024_seg_0.flac\n",
      "LibriSpeech/segments/clean/LibriSpeech/segments/clean/652/130726/652-130726-0024_seg_0.flac\n"
     ]
    },
    {
     "data": {
      "text/plain": [
       "<_io.BufferedRandom name='caudio.wav'>"
      ]
     },
     "execution_count": 97,
     "metadata": {},
     "output_type": "execute_result"
    }
   ],
   "source": [
    "print(dataset[0][0])\n",
    "print(dataset[0][1])\n",
    "naudio = AudioSegment.from_file(dataset[0][0],\"flac\")\n",
    "caudio = AudioSegment.from_file(dataset[0][1],\"flac\")\n",
    "\n",
    "naudio.export(\"naudio.wav\",\"wav\")\n",
    "caudio.export(\"caudio.wav\",\"wav\")\n"
   ]
  }
 ],
 "metadata": {
  "kernelspec": {
   "display_name": "trabajo_env",
   "language": "python",
   "name": "python3"
  },
  "language_info": {
   "codemirror_mode": {
    "name": "ipython",
    "version": 3
   },
   "file_extension": ".py",
   "mimetype": "text/x-python",
   "name": "python",
   "nbconvert_exporter": "python",
   "pygments_lexer": "ipython3",
   "version": "3.12.7"
  }
 },
 "nbformat": 4,
 "nbformat_minor": 2
}
